{
 "cells": [
  {
   "cell_type": "code",
   "execution_count": 1,
   "metadata": {},
   "outputs": [
    {
     "ename": "ModuleNotFoundError",
     "evalue": "No module named 'janome'",
     "output_type": "error",
     "traceback": [
      "\u001b[1;31m---------------------------------------------------------------------------\u001b[0m",
      "\u001b[1;31mModuleNotFoundError\u001b[0m                       Traceback (most recent call last)",
      "Cell \u001b[1;32mIn[1], line 1\u001b[0m\n\u001b[1;32m----> 1\u001b[0m \u001b[38;5;28;01mfrom\u001b[39;00m\u001b[38;5;250m \u001b[39m\u001b[38;5;21;01mjanome\u001b[39;00m\u001b[38;5;21;01m.\u001b[39;00m\u001b[38;5;21;01mtokenizer\u001b[39;00m\u001b[38;5;250m \u001b[39m\u001b[38;5;28;01mimport\u001b[39;00m Tokenizer\n\u001b[0;32m      2\u001b[0m \u001b[38;5;28;01mimport\u001b[39;00m\u001b[38;5;250m \u001b[39m\u001b[38;5;21;01mpandas\u001b[39;00m\u001b[38;5;250m \u001b[39m\u001b[38;5;28;01mas\u001b[39;00m\u001b[38;5;250m \u001b[39m\u001b[38;5;21;01mpd\u001b[39;00m\n\u001b[0;32m      4\u001b[0m \u001b[38;5;66;03m# 日本語のポジティブ/ネガティブ辞書を準備\u001b[39;00m\n",
      "\u001b[1;31mModuleNotFoundError\u001b[0m: No module named 'janome'"
     ]
    }
   ],
   "source": [
    "from janome.tokenizer import Tokenizer\n",
    "import pandas as pd\n",
    "\n",
    "# 日本語のポジティブ/ネガティブ辞書を準備\n",
    "positive_words = [\"素晴らしい\", \"おしゃれ\", \"最高\", \"好き\"]\n",
    "negative_words = [\"嫌い\", \"最悪\", \"ダサい\", \"悪い\"]\n",
    "\n",
    "# コメントデータ\n",
    "data = pd.DataFrame({\n",
    "    \"Image Name\": [\"image1.jpg\", \"image1.jpg\", \"image2.jpg\", \"image2.jpg\"],\n",
    "    \"Comment\": [\"これは素晴らしいです！\", \"デザインが好きではありません。\", \"とてもおしゃれですね！\", \"これは悪いデザインです。\"]\n",
    "})\n",
    "\n",
    "# 日本語トークン化\n",
    "tokenizer = Tokenizer()\n",
    "\n",
    "def calculate_sentiment(comment):\n",
    "    tokens = tokenizer.tokenize(comment)\n",
    "    score = 0\n",
    "    for token in tokens:\n",
    "        base_form = token.base_form  # 基本形\n",
    "        if base_form in positive_words:\n",
    "            score += 1\n",
    "        elif base_form in negative_words:\n",
    "            score -= 1\n",
    "    return score\n",
    "\n",
    "# スコアリング\n",
    "data['Sentiment Score'] = data['Comment'].apply(calculate_sentiment)\n",
    "\n",
    "# 画像ごとのスコアを集計\n",
    "avg_scores = data.groupby('Image Name')['Sentiment Score'].mean().reset_index()\n",
    "\n",
    "# 人気/不人気を分類\n",
    "avg_scores['Category'] = avg_scores['Sentiment Score'].apply(\n",
    "    lambda x: 'Popular' if x > 0 else 'Unpopular' if x < 0 else 'Neutral'\n",
    ")\n",
    "\n",
    "print(avg_scores)"
   ]
  },
  {
   "cell_type": "code",
   "execution_count": 2,
   "metadata": {},
   "outputs": [
    {
     "ename": "SyntaxError",
     "evalue": "invalid syntax (1949617096.py, line 1)",
     "output_type": "error",
     "traceback": [
      "\u001b[1;36m  Cell \u001b[1;32mIn[2], line 1\u001b[1;36m\u001b[0m\n\u001b[1;33m    it config --global user.name \"DanGaRa215\" git config --global user.email \"166576220+DanGaRa215@users.noreply.github.com\"\u001b[0m\n\u001b[1;37m       ^\u001b[0m\n\u001b[1;31mSyntaxError\u001b[0m\u001b[1;31m:\u001b[0m invalid syntax\n"
     ]
    }
   ],
   "source": [
    "git config --global user.name \"DanGaRa215\"\n",
    "git config --global user.email \"166576220+DanGaRa215@users.noreply.github.com\" "
   ]
  },
  {
   "cell_type": "code",
   "execution_count": null,
   "metadata": {},
   "outputs": [],
   "source": []
  }
 ],
 "metadata": {
  "kernelspec": {
   "display_name": ".venv",
   "language": "python",
   "name": "python3"
  },
  "language_info": {
   "codemirror_mode": {
    "name": "ipython",
    "version": 3
   },
   "file_extension": ".py",
   "mimetype": "text/x-python",
   "name": "python",
   "nbconvert_exporter": "python",
   "pygments_lexer": "ipython3",
   "version": "3.12.8"
  }
 },
 "nbformat": 4,
 "nbformat_minor": 2
}
