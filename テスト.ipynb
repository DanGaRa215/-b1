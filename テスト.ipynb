{
 "cells": [
  {
   "cell_type": "code",
   "execution_count": 2,
   "metadata": {},
   "outputs": [
    {
     "name": "stdout",
     "output_type": "stream",
     "text": [
      "   Image Name          Comment\n",
      "0  image1.jpg      これは素晴らしいです！\n",
      "1  image1.jpg  デザインが好きではありません。\n",
      "2  image1.jpg      とてもおしゃれですね！\n",
      "3  image1.jpg      これは素晴らしいです！\n",
      "4  image1.jpg  デザインが好きではありません。\n",
      "      Image Name          Comment\n",
      "3995  image2.jpg      とてもおしゃれですね！\n",
      "3996  image2.jpg      これは素晴らしいです！\n",
      "3997  image2.jpg  デザインが好きではありません。\n",
      "3998  image2.jpg      とてもおしゃれですね！\n",
      "3999  image2.jpg      これは素晴らしいです！\n"
     ]
    }
   ],
   "source": [
    "import pandas as pd\n",
    "\n",
    "# コメントデータのサンプル\n",
    "comments = [\"これは素晴らしいです！\", \"デザインが好きではありません。\", \"とてもおしゃれですね！\"]\n",
    "\n",
    "# 画像ごとに2000件のコメントデータを準備\n",
    "image_names = [\"image1.jpg\"] * 2000 + [\"image2.jpg\"] * 2000\n",
    "comment_list = comments * (4000 // len(comments))  # 全体の長さ4000に合わせる\n",
    "comment_list += comments[:4000 % len(comments)]  # 余りを追加して調整\n",
    "\n",
    "# データフレームの作成\n",
    "data = pd.DataFrame({\n",
    "    \"Image Name\": image_names,\n",
    "    \"Comment\": comment_list\n",
    "})\n",
    "\n",
    "# 確認\n",
    "print(data.head())\n",
    "print(data.tail())\n"
   ]
  },
  {
   "cell_type": "code",
   "execution_count": 3,
   "metadata": {},
   "outputs": [],
   "source": [
    "from janome.tokenizer import Tokenizer\n",
    "\n",
    "# 感情辞書を準備\n",
    "positive_words = {\"素晴らしい\", \"おしゃれ\", \"最高\", \"好き\", \"良い\"}\n",
    "negative_words = {\"嫌い\", \"悪い\", \"最悪\", \"ダサい\", \"不快\"}\n",
    "\n",
    "# 日本語の形態素解析ツールを利用\n",
    "tokenizer = Tokenizer()\n",
    "\n",
    "# 感情スコアを計算する関数\n",
    "def calculate_sentiment(comment):\n",
    "    tokens = tokenizer.tokenize(comment)\n",
    "    score = 0\n",
    "    for token in tokens:\n",
    "        base_form = token.base_form  # 単語の基本形\n",
    "        if base_form in positive_words:\n",
    "            score += 1\n",
    "        elif base_form in negative_words:\n",
    "            score -= 1\n",
    "    return score\n"
   ]
  },
  {
   "cell_type": "code",
   "execution_count": 5,
   "metadata": {},
   "outputs": [
    {
     "name": "stdout",
     "output_type": "stream",
     "text": [
      "   Image Name  Sentiment Score Category\n",
      "0  image1.jpg              1.0  Popular\n",
      "1  image2.jpg              0.0  Neutral\n"
     ]
    }
   ],
   "source": [
    "# 画像ごとのスコア平均を計算\n",
    "avg_scores = data.groupby('Image Name')['Sentiment Score'].mean().reset_index()\n",
    "\n",
    "# 人気/不人気を分類\n",
    "avg_scores['Category'] = avg_scores['Sentiment Score'].apply(\n",
    "    lambda x: 'Popular' if x > 0 else 'Unpopular' if x < 0 else 'Neutral'\n",
    ")\n",
    "\n",
    "print(avg_scores)\n"
   ]
  }
 ],
 "metadata": {
  "kernelspec": {
   "display_name": ".venv",
   "language": "python",
   "name": "python3"
  },
  "language_info": {
   "codemirror_mode": {
    "name": "ipython",
    "version": 3
   },
   "file_extension": ".py",
   "mimetype": "text/x-python",
   "name": "python",
   "nbconvert_exporter": "python",
   "pygments_lexer": "ipython3",
   "version": "3.12.8"
  }
 },
 "nbformat": 4,
 "nbformat_minor": 2
}
